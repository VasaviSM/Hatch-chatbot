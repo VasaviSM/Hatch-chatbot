{
  "nbformat": 4,
  "nbformat_minor": 0,
  "metadata": {
    "kernelspec": {
      "display_name": "Python 3",
      "language": "python",
      "name": "python3"
    },
    "language_info": {
      "codemirror_mode": {
        "name": "ipython",
        "version": 3
      },
      "file_extension": ".py",
      "mimetype": "text/x-python",
      "name": "python",
      "nbconvert_exporter": "python",
      "pygments_lexer": "ipython3",
      "version": "3.7.4"
    },
    "colab": {
      "name": "hatch.ipynb",
      "provenance": [],
      "collapsed_sections": []
    }
  },
  "cells": [
    {
      "cell_type": "markdown",
      "metadata": {
        "id": "41dlsVhxCuWN"
      },
      "source": [
        "# **Importing libraries**"
      ]
    },
    {
      "cell_type": "code",
      "metadata": {
        "id": "8tnQLLULXeP1"
      },
      "source": [
        "import pandas as pd\n",
        "from sklearn.feature_extraction.text import TfidfVectorizer\n",
        "import numpy as np\n",
        "from sklearn.svm import LinearSVC"
      ],
      "execution_count": null,
      "outputs": []
    },
    {
      "cell_type": "markdown",
      "metadata": {
        "id": "cHJFtMTekLbX"
      },
      "source": [
        "# **Feeding with labelled data**"
      ]
    },
    {
      "cell_type": "code",
      "metadata": {
        "id": "Anag0QLJBbre"
      },
      "source": [
        "data=[['Who are you?',0],\n",
        "      ['Heya!',1],['Hai!',1],['Hello',1],['Greetings',1],['Hey there',1],\n",
        "      ['What is the motto of Presidency University',2],['Motto',2],['Motto of the University',2],\n",
        "      ['When was it established?',3],['Established year',3],\n",
        "      ['Tell me a bit about college',4],['Tell me a bit about university',4],['Tell me about the college',4],['Tell me about university',4],['Tell me about presidency',4],['Can I know about the college?',4],['Can I know about the university?',4],['Info about the college',4],['Information about the college',4],\n",
        "      ['Who is the chancellor',5],['Who is the vice-chancellor',5],['chancellor',5],['vice-chancellor',5],\n",
        "      ['Can you tell me the history of the university?',6],['Can you describe the history of the college?',6],['Can you shed some light on the history of the university?',6],['Presidency facts',6],['Facts about presidency',6],['Facts',6],\n",
        "      ['How is the life on Campus?',7],['How is campus life?',7],['Campus life',7],['Campus life of student',7],['What are the clubs present?',7],['clubs',7],\n",
        "      ['What are the courses offered?',8],['What are the courses offered at presidency university?',8],['What courses do you offer?',8],\n",
        "      ['What accreditation/approvals do the courses offered by the Presidency University have?',9],\n",
        "      ['What is NIRF Ranking?',10],['NIRF ranking',10],['NIRF',10],\n",
        "      ['What is the college NAAC grade?',11],['What is NAAC grade?',11],['NAAC grade',11],['NAAC',11],\n",
        "      ['Degree?',12],['Who awards the degree?',12],\n",
        "      ['What are the eligibility criteria for enrolling for a course?',13],['Eligibilty criteria',13],\n",
        "      ['How important is the score in my qualifying examination to enroll for a course?',14],['On what basis students are admitted?',14],['On what basis students are admitted in presidency university?',14],\n",
        "      ['Can I apply for admission before I have the result for my qualifying examination results?',15],['Can I apply for admission before getting my results?',15],\n",
        "      ['Can I get admission if i don’t have any entrance test?',16],\n",
        "      ['Can I apply to more than one course? Can I do it in a single application?',17],['Can I apply to more than one course?',17],\n",
        "      ['How and when are the results of the Personal Interview announced?',18],\n",
        "      ['When do I need to pay admission/tuition fee?',19],\n",
        "      ['Is there a capitation fee?',20],\n",
        "      ['Do you have any management/reservation/donation quota?',21],['Do you have any management quota?',21],['Do you have any reservation quota?',21],['Do you have any donation quota?',21],\n",
        "      ['Can I avail for any scholarships for my study?',22],\n",
        "      ['Can I get study Loan assistance?',23],['Can i get education loan?',23],\n",
        "      ['If I choose to withdraw my application for admission, will I get a total refund?',24],\n",
        "      ['Please tell me about the Personal Interview test: In Person/Online Skype Interview and what is required for this?',25],\n",
        "      ['Will I get hostel accommodation at the time of admission?',26],\n",
        "      ['What extracurricular activities can I pursue?',27],\n",
        "      ['Do I have to submit the Original Document to the University and when can I get that back?',28],\n",
        "      ['Do my parents need to accompany me when I come for counseling?',29],\n",
        "      ['Are the hostel charges included in the tuition fee?',30],\n",
        "      ['Is the mess fee included in the hostel fees?',31],\n",
        "      ['If in first-year, Is it compulsory for me to avail of the hostel accommodation?',32],\n",
        "      ['I have submitted my original documents at the time of counselling at the other college. What should I do now?',33],\n",
        "      ['What is Industry 4.0?',34],\n",
        "      ['Are you all collaborated with foreign University?',35],\n",
        "      ['What are the focus areas of the University?',36],\n",
        "      ['What are the key features for MBA program?',37],\n",
        "      ['What is the key features program for B. Tech?',38],\n",
        "      ['What is the key features program for Law Program?',39],\n",
        "      ['What are the new developments happening in the institution?',40],\n",
        "      ['Area of the campus – the total land area, the infrastructure that is in place and how this is being upgraded.?',41],\n",
        "      ['Will I get a Job once I complete My Course?',42],['How are placements in Presidency University?',42],\n",
        "      ['Which are top recruiting companies?',43],\n",
        "      ['Which are entrance exams considered in the university?',44],\n",
        "      ['Transportation',45],['Is transport available?',45],\n",
        "      ['Library',46],['library facilities',46],\n",
        "      ['ATM',47],\n",
        "      ['Class rooms',48],['Seminar hall',48],\n",
        "      ['Health care facilities',49],['Medical room',49],['First aid room',49],\n",
        "      ['Computer labs',50],\n",
        "      ['Sports',51],\n",
        "      ['Anti ragging policy',52],['Anti Ragging',52],\n",
        "      ['Equal oppressions cell',53],\n",
        "      ['College website',54],['Website',54],\n",
        "      ['Auditorium',55],\n",
        "      ['Location?',56],['Location of Presidency University',56],\n",
        "      ['Thanks',57],['Bye',57],['Thanks for your help',57],['Thanks for the information',57],['Thank you',57]\n",
        "      ]"
      ],
      "execution_count": null,
      "outputs": []
    },
    {
      "cell_type": "markdown",
      "metadata": {
        "id": "WE51HgJKk7ms"
      },
      "source": [
        "**The view of data in form of DataFrame**"
      ]
    },
    {
      "cell_type": "code",
      "metadata": {
        "id": "RIeJibxHXeQX",
        "colab": {
          "base_uri": "https://localhost:8080/",
          "height": 415
        },
        "outputId": "cc9021da-2db8-4047-8512-97a0308ed6c4"
      },
      "source": [
        "df=pd.DataFrame(data,columns=[\"Text\",\"Indent\"])\n",
        "df"
      ],
      "execution_count": null,
      "outputs": [
        {
          "output_type": "execute_result",
          "data": {
            "text/html": [
              "<div>\n",
              "<style scoped>\n",
              "    .dataframe tbody tr th:only-of-type {\n",
              "        vertical-align: middle;\n",
              "    }\n",
              "\n",
              "    .dataframe tbody tr th {\n",
              "        vertical-align: top;\n",
              "    }\n",
              "\n",
              "    .dataframe thead th {\n",
              "        text-align: right;\n",
              "    }\n",
              "</style>\n",
              "<table border=\"1\" class=\"dataframe\">\n",
              "  <thead>\n",
              "    <tr style=\"text-align: right;\">\n",
              "      <th></th>\n",
              "      <th>Text</th>\n",
              "      <th>Indent</th>\n",
              "    </tr>\n",
              "  </thead>\n",
              "  <tbody>\n",
              "    <tr>\n",
              "      <th>0</th>\n",
              "      <td>Who are you?</td>\n",
              "      <td>0</td>\n",
              "    </tr>\n",
              "    <tr>\n",
              "      <th>1</th>\n",
              "      <td>Heya!</td>\n",
              "      <td>1</td>\n",
              "    </tr>\n",
              "    <tr>\n",
              "      <th>2</th>\n",
              "      <td>Hai!</td>\n",
              "      <td>1</td>\n",
              "    </tr>\n",
              "    <tr>\n",
              "      <th>3</th>\n",
              "      <td>Hello</td>\n",
              "      <td>1</td>\n",
              "    </tr>\n",
              "    <tr>\n",
              "      <th>4</th>\n",
              "      <td>Greetings</td>\n",
              "      <td>1</td>\n",
              "    </tr>\n",
              "    <tr>\n",
              "      <th>...</th>\n",
              "      <td>...</td>\n",
              "      <td>...</td>\n",
              "    </tr>\n",
              "    <tr>\n",
              "      <th>111</th>\n",
              "      <td>Thanks</td>\n",
              "      <td>57</td>\n",
              "    </tr>\n",
              "    <tr>\n",
              "      <th>112</th>\n",
              "      <td>Bye</td>\n",
              "      <td>57</td>\n",
              "    </tr>\n",
              "    <tr>\n",
              "      <th>113</th>\n",
              "      <td>Thanks for your help</td>\n",
              "      <td>57</td>\n",
              "    </tr>\n",
              "    <tr>\n",
              "      <th>114</th>\n",
              "      <td>Thanks for the information</td>\n",
              "      <td>57</td>\n",
              "    </tr>\n",
              "    <tr>\n",
              "      <th>115</th>\n",
              "      <td>Thank you</td>\n",
              "      <td>57</td>\n",
              "    </tr>\n",
              "  </tbody>\n",
              "</table>\n",
              "<p>116 rows × 2 columns</p>\n",
              "</div>"
            ],
            "text/plain": [
              "                           Text  Indent\n",
              "0                  Who are you?       0\n",
              "1                         Heya!       1\n",
              "2                          Hai!       1\n",
              "3                         Hello       1\n",
              "4                     Greetings       1\n",
              "..                          ...     ...\n",
              "111                      Thanks      57\n",
              "112                         Bye      57\n",
              "113        Thanks for your help      57\n",
              "114  Thanks for the information      57\n",
              "115                   Thank you      57\n",
              "\n",
              "[116 rows x 2 columns]"
            ]
          },
          "metadata": {
            "tags": []
          },
          "execution_count": 93
        }
      ]
    },
    {
      "cell_type": "code",
      "metadata": {
        "id": "ZUFouUEIXeQk"
      },
      "source": [
        "x=df['Text']\n",
        "y=df['Indent']"
      ],
      "execution_count": null,
      "outputs": []
    },
    {
      "cell_type": "markdown",
      "metadata": {
        "id": "tZ3H-gkMlOYe"
      },
      "source": [
        "# **Tokenizing the data**"
      ]
    },
    {
      "cell_type": "code",
      "metadata": {
        "id": "FSrhR2FrXeQq"
      },
      "source": [
        "vectorizer=TfidfVectorizer()"
      ],
      "execution_count": null,
      "outputs": []
    },
    {
      "cell_type": "code",
      "metadata": {
        "id": "9XeEhcHeXeQx"
      },
      "source": [
        "x=vectorizer.fit_transform(x)"
      ],
      "execution_count": null,
      "outputs": []
    },
    {
      "cell_type": "code",
      "metadata": {
        "id": "FANXkHmiXeQ3",
        "colab": {
          "base_uri": "https://localhost:8080/"
        },
        "outputId": "736347e8-b0d0-4384-dd22-64b099286e6b"
      },
      "source": [
        "x"
      ],
      "execution_count": null,
      "outputs": [
        {
          "output_type": "execute_result",
          "data": {
            "text/plain": [
              "<116x216 sparse matrix of type '<class 'numpy.float64'>'\n",
              "\twith 596 stored elements in Compressed Sparse Row format>"
            ]
          },
          "metadata": {
            "tags": []
          },
          "execution_count": 97
        }
      ]
    },
    {
      "cell_type": "markdown",
      "metadata": {
        "id": "S3I1sKb1ocxP"
      },
      "source": [
        "**Vector Classifier**"
      ]
    },
    {
      "cell_type": "code",
      "metadata": {
        "id": "h-RWXISbXeRA"
      },
      "source": [
        "model=LinearSVC(C=0.1)"
      ],
      "execution_count": null,
      "outputs": []
    },
    {
      "cell_type": "code",
      "metadata": {
        "id": "1dfGqJj5XeRG",
        "colab": {
          "base_uri": "https://localhost:8080/"
        },
        "outputId": "30bb1989-6e78-4f41-b9cc-7dbdfa57e616"
      },
      "source": [
        "model.fit(x,y)"
      ],
      "execution_count": null,
      "outputs": [
        {
          "output_type": "execute_result",
          "data": {
            "text/plain": [
              "LinearSVC(C=0.1, class_weight=None, dual=True, fit_intercept=True,\n",
              "          intercept_scaling=1, loss='squared_hinge', max_iter=1000,\n",
              "          multi_class='ovr', penalty='l2', random_state=None, tol=0.0001,\n",
              "          verbose=0)"
            ]
          },
          "metadata": {
            "tags": []
          },
          "execution_count": 99
        }
      ]
    },
    {
      "cell_type": "markdown",
      "metadata": {
        "id": "X33tcQput5Ku"
      },
      "source": [
        "**Example to unedrstand**"
      ]
    },
    {
      "cell_type": "code",
      "metadata": {
        "id": "BKuI4-_5XeRN"
      },
      "source": [
        "test=['thanks']"
      ],
      "execution_count": null,
      "outputs": []
    },
    {
      "cell_type": "code",
      "metadata": {
        "id": "XCm4fUHxXeRU"
      },
      "source": [
        "x_test=vectorizer.transform(test)"
      ],
      "execution_count": null,
      "outputs": []
    },
    {
      "cell_type": "code",
      "metadata": {
        "id": "VXlq2adbXeRb",
        "colab": {
          "base_uri": "https://localhost:8080/"
        },
        "outputId": "74d06eb0-c0c9-4c92-81e7-8ff490975dc9"
      },
      "source": [
        "model.predict(x_test)"
      ],
      "execution_count": null,
      "outputs": [
        {
          "output_type": "execute_result",
          "data": {
            "text/plain": [
              "array([57])"
            ]
          },
          "metadata": {
            "tags": []
          },
          "execution_count": 102
        }
      ]
    },
    {
      "cell_type": "markdown",
      "metadata": {
        "id": "tepN-9DhrCzD"
      },
      "source": [
        "# **Feeding responses**"
      ]
    },
    {
      "cell_type": "markdown",
      "metadata": {
        "id": "0IQ6DFqwD9Kx"
      },
      "source": [
        "**Importing few more modules**"
      ]
    },
    {
      "cell_type": "code",
      "metadata": {
        "id": "yuAGkgcJXeRh"
      },
      "source": [
        "import pickle\n",
        "import random"
      ],
      "execution_count": null,
      "outputs": []
    },
    {
      "cell_type": "markdown",
      "metadata": {
        "id": "YN8mWnnNti_g"
      },
      "source": [
        "**Responses fed to the bot**"
      ]
    },
    {
      "cell_type": "code",
      "metadata": {
        "id": "gDXCxo45GETO"
      },
      "source": [
        "responses = {0:{\"intent\":\"intro\",\"response\":[\"I'm Hatch, a smart Presidency enquiry bot\"]},\n",
        "             1:{\"intent\":\"greetings\",\"response\":['Hai, What can I do for you?','Howdy, What do you want to know about Presidency University?','Hello, What do you want to know about Presidency University?','Hey buddy, What do you want to know about Presidency University?','Hey there!, What can I do for you?','Greetings, What do you want to know about Presidency University?','Hola, What can I do for you?','Heya, What do you want to know about Presidency University?','Hi, What do you want to know about Presidency University?']},\n",
        "             2:{\"intent\":\"motto\",\"response\":['Gain more knowledge reach greater heights']},\n",
        "             3:{'intent':'est','response':['2013']},\n",
        "             4:{'intent':'clg_intro','response':['The Presidency University, Bangalore is a private research university in Itgalpur Rajanakunte ,Yelahanka, Bangalore. The university offers courses in engineering, management, design, computer applications, commerce and law']},\n",
        "             5:{'intent':'head','response':['Chancellor: Dr.Nissar Ahmed and Vice-Chancellor: Dr.Radha Padmanabhan']},\n",
        "             6:{'intent':'history','response':['40 + years of academic wisdom. Awarded by ASSOCHAM, India in 2017, 2018, 2019, 2020. Strong team of highly qualified faculty. State of the art facility perched in 67 acres campus. 7+ schools and colleges in South India. 500+ faculty across presidency institutions','Presidency Group of Institutions (PGI), along with the University, constitutes 7 Schools and a College. While the college offers programmes to students at both the undergraduate and postgraduate levels in information technology, commerce, management and journalism, the schools offer National and International boards of studies. Recently, Presidency Group of Institutions (PGI) was bestowed with the \"Most Promising Institute in South India\" award at the British South India Council of Commerce and Business Meet 2014.The Presidency University, Bangalore was founded by the Presidency Group of Institutions (PGI). The university\\'s founding Chairman and Chancellor is Dr. Nissar Ahmed; the Vice Chancellor is Dr. Radha Padmanabhan. It was chartered by the Presidency University Act(Karnataka State Act No. in 2013]. The university commenced classes in 2015.']},\n",
        "             7:{'intent':'clife','response':['The University provides it\\'s students numerous opportunities for co-curricular activities to enrich their cultural interests. The cultural committee of the University encourages students to take part in a wide variety of cultural competitions, such as singing, dancing, debates, creative writing, etc., and holds various cultural activities throughout the year. It also organises various fests and cultural activities, where students participate enthusiastically to make the programmes a success.']},\n",
        "             8:{'intent':'courses','response':['School of Engineering, School of Information Science, School of Law (SOL) Approved By BCI, School of Management  (SOM), School of Commerce (SOC), School of  Design (SOD). For more information you can visit the official website https://presidencyuniversity.in/']},\n",
        "             9:{'intent':'accreditation','response':['Presidency University, Karnataka is a private University established in Karnataka, under the Karnataka Act No 41 of 2013 (henceforth, to be known as Presidency University Act). The Government of Karnataka notified the Presidency University Act, 2013 to establish Presidency University in Karnataka State vide Gazette Notification dated 16th May, 2013. Presidency University is approved by AICTE (All India Council for Technical education), UGC (University Grants Commission), BCI (Bar Council of India). We are also listed in AIU (Association of Indian Universities).']},\n",
        "             10:{'intent':'nirf','response':['We have forwarded all the details to NIRF, however, they will start ranking us only from the year 2022, because as per NIRF rule, 3 batches have to pass out for ranking.']},\n",
        "             11:{'intent':'naac','response':['Our University was established in 2015, as per NAAC rule. They will accept an application in the year 2021.']},\n",
        "             12:{'intent':'degree','response':['The degree is awarded by Presidency University after the completion of course.']},\n",
        "             13:{'intent':'eligibilty','response':['Each course has different eligibility criteria. Enclosed file has eligibility details, feel free to visit our website https://presidencyuniversity.in/']},\n",
        "             14:{'intent':'adimt','response':['At Presidency University we admit students on the basis of merit. Admissions to some courses are based on all-India entrance test scores; for others, we consider the score in the qualifying Exam & Personal interview round.']},\n",
        "             15:{'intent':'pre_apply','response':['Yes, you can begin your application process before you get your final result. For courses where admissions are based on your scores, you need to submit your scores for the qualifying examination on or before the respective last date. For other courses, you need to submit only the proof of passing your qualifying examination at the time of counseling/admission.']},\n",
        "             16:{'intent':'enquiry','response':['That depends on the admission criteria for the course you have opted for. We require all candidates to fulfill the minimum eligibility requirements as listed on our eligibility criteria section. (https://presidencyuniversity.in/)Please do visit our official website.']},\n",
        "             17:{'intent':'application','response':['If the courses you have opted for fall in the same group, then by all means, go ahead and state your choices in one single application form. However, if you opt for courses in different program under separate school of discipline, then you need to fill out separate applications.']},\n",
        "             18:{'intent':'prs_int','response':['We would get back to you within 3 working days in the form of mail, and also admissions team members would get in touch with you. You can also call the admission office at +91-9022092222 or mail us @ admission@presidencyuniversity.in. Offer Letter will be sent to the successful candidates, giving necessary details.']},\n",
        "             19:{'intent':'tut_fee','response':['The first year fees are paid as per the schedule shared in the provisional admission letter. Initially the registration amount to be made as per the date given, followed by the next installments amounts to be paid.']},\n",
        "             20:{'intent':'capitation_fee','response':['No, there is no capitation fee. You need to pay only the fees mentioned in the letter and the website.']},\n",
        "             21:{'intent':'quota','response':['Your admission is strictly based on merit']},\n",
        "             22:{'intent':'scholarship','response':['Yes, you can, feel free contact Admission Office for further details.']},\n",
        "             23:{'intent':'loan','response':['In the light of the current scenario, Presidency University has taken the initiative of arranging a Facility of availing Educational Loan, through a dedicated arrangement with a few FinTech Companies, Only for the Academic Year 2020-21. Under this Scheme the University will absorb the interest-cost, with the Loan being repaid in ten[10] Monthly Instalments. Eligibility Conditions will apply. Please visit our website for further details – https://presidencyuniversity.in/ and click on the Education Loan tab in the home page.']},\n",
        "             24:{'intent':'refund','response':['Refund of fee is as per our UGC refund Policy.']},\n",
        "             25:{'intent':'personal_interview','response':['Basically it is knowing the individual capabilities in term of aptitude, academic preparedness, soft skills. All about yourself and the updated news in and around the world.']},\n",
        "             26:{'intent':'hostel','response':['Presidency University provides the option of off campus hostel facilities separate for boys and Girls. And all students who opt for hostel accommodated based on the availability of the hostel. It is purely a first come first served basis. You can find out more about our hostel accommodation and rules & regulations on the website.(https://presidencyuniversity.in/)']},\n",
        "             27:{'intent':'extracurricular','response':['We have sports facilities, literary club, cultural club, Editorial club, and many other activities you can take part in. Take a round of our campus facilities in the Website (https://presidencyuniversity.in/)']},\n",
        "             28:{'intent':'docs','response':['Yes, you are required to submit your original documents. Your original documents will be retained by the University until the completion of your course. We will however give you an acknowledgement for your original documents.']},\n",
        "             29:{'intent':'counseling','response':['No, it is not mandatory for your parents to come along with you.']},\n",
        "             30:{'intent':'hostel_fee','response':['No, the hostel fee is mentioned separately.']},\n",
        "             31:{'intent':'mess_fee','response':['Yes, the mess charges are included in the hostel fee.']},\n",
        "             32:{'intent':'hostel_accd','response':['Hostel facility is optional. We think it is a good idea for first year students to stay in the student hostels, it helps them bond together and that in turn, improves their experience of the Presidency University Campus life. But the student can take a call based on your comfortably.']},\n",
        "             33:{'intent':'org_docs','response':['You should give us an acknowledgement for the deposition of original documents at other Institution']},\n",
        "             34:{'intent':'industry_4.0','response':['Presidency University 4.0. The Presidency University offers Industry-led Curriculum with strong Industry-Academia partnership. Relevant domain courses on applications of Analytics, Data Science, Block-chain and other technologies, with strong foundations in the core areas of management, will provide excellent learning opportunities for the students. The curriculum also embeds the experiential and skill-based learning to inculcate analytical and critical thinking ability, design thinking, and, develop practical perspectives as well as entrepreneurial talent.']},\n",
        "             35:{'intent':'foreign_university','response':['We have tie up with foreign Universities, University of Alabama-USA, The Hochschule Konstanz, University of Technology, Business and Design Konstanz – Germany, South Ural State University- Russia, Istanbul Aydin University-Turkey, Nature2need Bio-Polymers & Compounds-China, Power Research and Development Consultants Pvt Ltd – Bangalore.']},\n",
        "             36:{'intent':'areas','response':['Equipping the students with a strong knowledge base through most effective teaching-learning practise. Ensuring student-centric, soft-skill and technical-skill programs that will make them industry-ready Curriculum-integrated. Industrial Practice which is a hands-on exposure for students in reputed organisations. Continuous Internal Assessment Process by which students are continuously evaluated in ensuring the attainment of the envisaged learning outcomes. Ensuring a holistic approach to management teaching-learning']},\n",
        "             37:{'intent':'mba','response':['Two-year Program offering Specialisation in employment-oriented Courses Well diversified yet, very contemporary curriculum coupled with strong teaching-learning practices. A two month monitored Industrial Practice (SIP- Summer Internship Program) before the commencement of the Second Year of Program reinforced with a four-month Industrial Practice (MIP- Monitored Internship Program) in the final semester. [Students will have an opportunity to experience hands on working at reputed organisations]. Academic Rigour is supported by student-centric co-curricular and extra-curricular activities, all managed by students. Encouraging students towards writing and presentation of research papers Refer the PPT for detailed description of the program.']},\n",
        "             38:{'intent':'btech','response':['The first year builds strong foundation with basic courses in humanities, sciences, mathematics and engineering sciences. The core courses specific to the discipline are offered from the second year onwards. Electives are offered from the THIRD year onwards helping the students to choose the courses of their choice. Industrial Practice I is a credited course of EIGHT weeks’ duration offered during the summer term of second year, wherein students work in an industry under the supervision of faculty members. Similarly, IP II is a credited course of FIVE and a half months duration offered during the FOURTH year. Students also have an option to do thesis or electives and project in place of IP II. Carefully chosen electives in the THIRD year helps the students perform better in IP II.']},\n",
        "             39:{'intent':'law','response':['Honour program with 6 honour subject from 14 options with possibility of choosing contemporary law subjects and emerging law areas of new legislations like bankruptcy law, Financial inclusion law and Debt recovery. Our students can not only take up legal provision in the traditional manner of working in course and as an alternative work for legal firms. This course combines theoretical law with two program of legal practice, which is working in a legal firm spread over 25 weeks. Students are also given stimulatory cases for practice as a part of the course in Moot Court practice. The students have also exposed to current topics in the seminar series where eminent practitioners will discuss on emerging law.']},\n",
        "             40:{'intent':'college_dvlp','response':['Adoption of a dynamic curriculum which is modified immediately in response to the changing requirements of the Industry. Evaluation methodologies that are case driven exercises that derive solutions form the application of clear concepts. Research paper based assessments that are useful in understanding the subject on a \"field to classroom\" approach']},\n",
        "             41:{'intent':'campus_area','response':['The campus is spread over 64 acres and is located close to the Bangalore International Airport. The state-of-the-art campus facilities comprises academic block, library complex, computer center, Faculty block and admin wing. In addition to this, common facilities such as the 600 seat-amphi theatre. It also houses sports ground, Cafeteria ad mess facilities catering to more than 10,000 students at present.']},\n",
        "             42:{'intent':'job','response':['Presidency University has an excellent placement cell and a large number of our students get placed in good Companies.']},\n",
        "             43:{'intent':'recruiting_companies','response':['1.B.Tech- TCS, Wipro, Tech M Mahindra, IBM India, NTT Data India, 2.LL.B- King Stubb and Kasiva, Advocates and Attorneys, Whote Code Legal, Juris Corp, 3.MBA- Federal Bank, Mercuri Urval /TCS, ICICI Bank/ ADDA, Eurooo Italy, Deloitte, Tata Consultancy, Berger Paints, Airtel, FedEx,  Bajaj Allianz']},\n",
        "             44:{'intent':'entrance_exam','response':['1.B. TECH – JEE, State Entrance Exam (CET), COMEDK, EAMCET, 2.LAW – CLAT, LSAT, 3.MBA – CAT, MAT, XAT, ATMA, K-MAT, TANCET, 4.BBA – UGAT, 5.DESIGN – UCEED, IIAD, AIEED, CEED, NIT, NIFT']},\n",
        "             45:{'intent':'transport','response':['The university  is located just 15 kms away from international Airport and is well connected by BMTC (Bengaluru Metropolitan Transport Corporation) bus service. Besides, the university has 30+ dedicated buses and it also provides pick up and drop services to the students and staff from the campus to the different parts of the city on  the approved routes which covers a large part of the city.  Interested students may choose nearest bus stop to their residence.']},\n",
        "             46:{'intent':'library','response':['Presidency University (PU) Library which occupies an important place in the academic life in the University is located in the first floor of the old academic block. It has facilities for reading, study cubicles, periodicals display, reference section, stacking area, internet terminals, etc. The Library remains open from 9.00 AM to 6.00 PM on all working days and from 9.00 AM to 9.00 PM during comprehensive examination days.']},\n",
        "             47:{'intent':'atm','response':['Presidency University offers various banking facilities on campus premises. Students and faculty members can also use the ATM to facilitate access to bank accounts for cash withdrawals.']},\n",
        "             48:{'intent':'class','response':['Spacious and air-conditioned lecture classrooms and conference halls are equipped with the latest audio-visual facilities for an enhanced learning experience. Conference halls that accommodate large groups at a time are used often for seminars and group meetings.']},\n",
        "             49:{'intent':'medical','response':['Presidency University has an in-house health clinic exclusively for its students, staff and the faculty, and it remains open throughout the week. The University also has tie-ups with the top hospitals in Bengaluru—ensuring proper medical care and attention to all members of the university.']},\n",
        "             50:{'intent':'c_labs','response':['The university has two state-of-the-art computing centres which are added feathers to the university’s learning architecture. The computing Centre possesses 120/ [240] high end Dell systems and 120 Thin client machines. The centre maintains two specialized high performance servers. In addition to that, the Centre has a round the clock Wi-Fi connection. Dedicated bandwidth of 20 Mbps (1:1, full duplex) and 10Mbps are available from two different vendors and hence internet is made available for all the stake-holders. The administrative blocks, academic blocks, library and other buildings of the campus are connected through the Wi-Fi.']},\n",
        "             51:{'intent':'sports','response':['A healthy mind resides in a healthy body, goes the saying. The Sports Department at the university believes that when you exercise your body, you exercise your mind as well. Besides academics, sports is one of the important co-curricular activities, included in all educational institutions. Sports attribute positively to the academic performance of our learners. Playing as a team encourages co-operation and leadership among the players. A wide variety of indoor and outdoor sport activities are made available to the students of the university so that they can have an all-round development. The Sports department has excellent facilities and well trained sports instructors headed by experienced Director of Physical Education. Facilities and ample spaces are available for outdoor sports; volleyball, basketball, hockey, football, kho-kho and cricket. Facilities for table tennis, different indoor games, badminton courts and exercise rooms are also available for university students. A well equipped gymnasium is also coming up. There are separate coaches for all the games who groom the students and train them rigorously to compete at the national level. All the games have equipment of international standards which is accessible to all the students.']},\n",
        "             52:{'intent':'anti_ragging','response':['ANTI RAGGING MEASURES - Pursuant to the directives of the Honourable Supreme Court of India and in accordance with the UGC Regulations, on curbing the Menace of Ragging in Higher Educational Institutions, 2009, the University has constituted the Anti-Ragging Committee and Anti-Ragging Squads for overseeing the strict and meticulous implementation of all the directives. The members of the anti-ragging committee and anti-ragging squads along with their mobile numbers are being displayed for the benefit of the students specially the newly admitted students.']},\n",
        "             53:{'intent':'equal_cell','response':['The Equal Opportunities Cell is constituted for a term of 2 years. Any student or their parents/guardians who want to bring to the notice of University any act of discrimination faced by them should write their complaints to the Anti Discriminatory Officer. He/She can be reached at :pueoc@presidencyuniversity.in']},\n",
        "             54:{'intent':'website','response':['Feel free to visit our website https://presidencyuniversity.in/']},\n",
        "             55:{'intent':'auditorium','response':['Presidency University has a large auditorium with gallery like seating arrangement which can accommodate a thousand people. It also has a big stage which is apt for various performances. Various cultural competitions like Dance, Skits, Singing, Rock – Band, Mad ads to mention a few, are performed here. It is also the venue of many programs like course orientations, Inspirational talks, and Graduation Ceremony. This place is always occupied by students who can be seen practicing for various upcoming events and is also the platform where they develop healthy competition and new contacts.']},  \n",
        "             56:{'intent':'location','response':['You can find the location of Presidency University here. https://www.google.com/maps/dir/12.9400832,77.5520256/presidencyuniversity/@13.0528418,77.415094,11z/data=!3m1!4b1!4m9!4m8!1m1!4e1!1m5!1m1!1s0x3bae21be4ad63a55:0x1008adb771c3d236!2m2!1d77.5362498!2d13.171795']},        \n",
        "             57:{'intent':'ends','response':['You are welcome, we will be looking forward!','You are welcome, Thanks for having a look on Presidency University','It was a pleasure having coversation with you, do visit the campus']}\n",
        "             }"
      ],
      "execution_count": null,
      "outputs": []
    },
    {
      "cell_type": "code",
      "metadata": {
        "id": "V0J48BTuXeRv",
        "colab": {
          "base_uri": "https://localhost:8080/",
          "height": 35
        },
        "outputId": "6c12e394-1216-4367-de51-f116b999f8a6"
      },
      "source": [
        "random.choice(responses[model.predict(x_test)[0]]['response'])"
      ],
      "execution_count": null,
      "outputs": [
        {
          "output_type": "execute_result",
          "data": {
            "application/vnd.google.colaboratory.intrinsic+json": {
              "type": "string"
            },
            "text/plain": [
              "'It was a pleasure having coversation with you, do visit the campus'"
            ]
          },
          "metadata": {
            "tags": []
          },
          "execution_count": 105
        }
      ]
    },
    {
      "cell_type": "markdown",
      "metadata": {
        "id": "BZz5BNS4EFup"
      },
      "source": [
        "# **Functioning of the code**"
      ]
    },
    {
      "cell_type": "code",
      "metadata": {
        "id": "pmn5EMJ1XeR3"
      },
      "source": [
        "def response(user_response):\n",
        "    text=[user_response]\n",
        "    x_test=vectorizer.transform(text)\n",
        "    prediction=model.predict(x_test)\n",
        "    reply=random.choice(responses[prediction[0]]['response'])\n",
        "    return reply"
      ],
      "execution_count": null,
      "outputs": []
    },
    {
      "cell_type": "code",
      "metadata": {
        "id": "YH400pQaXeSD"
      },
      "source": [
        "import requests\n",
        "import json\n",
        "\n",
        "class telegram_bot():\n",
        "    def __init__(self):\n",
        "        self.token = \"1356962377:AAG1gbGgErUbgaLTRHvasgFu2ZRdMaA05fo\"    #write your token here!  \n",
        "    \n",
        "        self.url = f\"https://api.telegram.org/bot{self.token}\"\n",
        "\n",
        "    def get_updates(self,offset=None):\n",
        "        url = self.url+\"/getUpdates?timeout=100\"\n",
        "        if offset:\n",
        "            url = url+f\"&offset={offset+1}\"\n",
        "        url_info = requests.get(url)\n",
        "        return json.loads(url_info.content)\n",
        "\n",
        "    def send_message(self,msg,chat_id):\n",
        "        url = self.url + f\"/sendMessage?chat_id={chat_id}&text={msg}\"\n",
        "        if msg is not None:\n",
        "            requests.get(url)\n",
        "\n",
        "    def grab_token(self):\n",
        "        return tokens"
      ],
      "execution_count": null,
      "outputs": []
    },
    {
      "cell_type": "code",
      "metadata": {
        "id": "ohM1vhZNXeSJ",
        "colab": {
          "base_uri": "https://localhost:8080/"
        },
        "outputId": "d1fdb7fb-8598-47c8-f4dd-06d1da4fcb70"
      },
      "source": [
        "tbot = telegram_bot()\n",
        "\n",
        "update_id = None\n",
        "\n",
        "def make_reply(msg):\n",
        "    if msg is not None:\n",
        "        reply = response(msg)\n",
        "    return reply\n",
        "\n",
        "while True:\n",
        "    print(\"-----*-*-----\")\n",
        "    print(\"Welcome, I'm HATCH, Presidency's smart bot! :)\")\n",
        "    \n",
        "    updates = tbot.get_updates(offset=update_id)\n",
        "    updates = updates['result']\n",
        "    print(updates)\n",
        "    if updates:\n",
        "        for item in updates:\n",
        "            update_id = item[\"update_id\"]\n",
        "            print(update_id)\n",
        "            try:\n",
        "                message = item[\"message\"][\"text\"]\n",
        "                print(message)\n",
        "            except:\n",
        "                message = None\n",
        "            from_ = item[\"message\"][\"from\"][\"id\"]\n",
        "            print(from_)\n",
        "\n",
        "            reply = make_reply(message)\n",
        "            tbot.send_message(reply,from_)"
      ],
      "execution_count": null,
      "outputs": [
        {
          "output_type": "stream",
          "text": [
            "-----*-*-----\n",
            "Welcome, I'm HATCH, Presidency's smart bot! :)\n",
            "[{'update_id': 420569230, 'message': {'message_id': 319, 'from': {'id': 748792063, 'is_bot': False, 'first_name': 'Vasavi', 'language_code': 'en'}, 'chat': {'id': 748792063, 'first_name': 'Vasavi', 'type': 'private'}, 'date': 1606639949, 'text': 'Location??'}}, {'update_id': 420569231, 'message': {'message_id': 320, 'from': {'id': 748792063, 'is_bot': False, 'first_name': 'Vasavi', 'language_code': 'en'}, 'chat': {'id': 748792063, 'first_name': 'Vasavi', 'type': 'private'}, 'date': 1606639964, 'text': 'Location'}}]\n",
            "420569230\n",
            "Location??\n",
            "748792063\n",
            "420569231\n",
            "Location\n",
            "748792063\n",
            "-----*-*-----\n",
            "Welcome, I'm HATCH, Presidency's smart bot! :)\n",
            "[]\n",
            "-----*-*-----\n",
            "Welcome, I'm HATCH, Presidency's smart bot! :)\n",
            "[]\n",
            "-----*-*-----\n",
            "Welcome, I'm HATCH, Presidency's smart bot! :)\n",
            "[]\n",
            "-----*-*-----\n",
            "Welcome, I'm HATCH, Presidency's smart bot! :)\n",
            "[]\n",
            "-----*-*-----\n",
            "Welcome, I'm HATCH, Presidency's smart bot! :)\n",
            "[]\n",
            "-----*-*-----\n",
            "Welcome, I'm HATCH, Presidency's smart bot! :)\n",
            "[]\n",
            "-----*-*-----\n",
            "Welcome, I'm HATCH, Presidency's smart bot! :)\n",
            "[]\n",
            "-----*-*-----\n",
            "Welcome, I'm HATCH, Presidency's smart bot! :)\n",
            "[]\n",
            "-----*-*-----\n",
            "Welcome, I'm HATCH, Presidency's smart bot! :)\n",
            "[]\n",
            "-----*-*-----\n",
            "Welcome, I'm HATCH, Presidency's smart bot! :)\n",
            "[]\n",
            "-----*-*-----\n",
            "Welcome, I'm HATCH, Presidency's smart bot! :)\n",
            "[]\n",
            "-----*-*-----\n",
            "Welcome, I'm HATCH, Presidency's smart bot! :)\n",
            "[]\n",
            "-----*-*-----\n",
            "Welcome, I'm HATCH, Presidency's smart bot! :)\n",
            "[]\n",
            "-----*-*-----\n",
            "Welcome, I'm HATCH, Presidency's smart bot! :)\n",
            "[]\n",
            "-----*-*-----\n",
            "Welcome, I'm HATCH, Presidency's smart bot! :)\n",
            "[]\n",
            "-----*-*-----\n",
            "Welcome, I'm HATCH, Presidency's smart bot! :)\n",
            "[]\n",
            "-----*-*-----\n",
            "Welcome, I'm HATCH, Presidency's smart bot! :)\n",
            "[]\n",
            "-----*-*-----\n",
            "Welcome, I'm HATCH, Presidency's smart bot! :)\n",
            "[]\n",
            "-----*-*-----\n",
            "Welcome, I'm HATCH, Presidency's smart bot! :)\n",
            "[]\n",
            "-----*-*-----\n",
            "Welcome, I'm HATCH, Presidency's smart bot! :)\n",
            "[]\n",
            "-----*-*-----\n",
            "Welcome, I'm HATCH, Presidency's smart bot! :)\n",
            "[]\n",
            "-----*-*-----\n",
            "Welcome, I'm HATCH, Presidency's smart bot! :)\n",
            "[]\n",
            "-----*-*-----\n",
            "Welcome, I'm HATCH, Presidency's smart bot! :)\n",
            "[]\n",
            "-----*-*-----\n",
            "Welcome, I'm HATCH, Presidency's smart bot! :)\n",
            "[]\n",
            "-----*-*-----\n",
            "Welcome, I'm HATCH, Presidency's smart bot! :)\n",
            "[]\n",
            "-----*-*-----\n",
            "Welcome, I'm HATCH, Presidency's smart bot! :)\n",
            "[]\n",
            "-----*-*-----\n",
            "Welcome, I'm HATCH, Presidency's smart bot! :)\n",
            "[]\n",
            "-----*-*-----\n",
            "Welcome, I'm HATCH, Presidency's smart bot! :)\n",
            "[]\n",
            "-----*-*-----\n",
            "Welcome, I'm HATCH, Presidency's smart bot! :)\n",
            "[]\n",
            "-----*-*-----\n",
            "Welcome, I'm HATCH, Presidency's smart bot! :)\n",
            "[]\n",
            "-----*-*-----\n",
            "Welcome, I'm HATCH, Presidency's smart bot! :)\n",
            "[]\n",
            "-----*-*-----\n",
            "Welcome, I'm HATCH, Presidency's smart bot! :)\n",
            "[]\n",
            "-----*-*-----\n",
            "Welcome, I'm HATCH, Presidency's smart bot! :)\n",
            "[]\n",
            "-----*-*-----\n",
            "Welcome, I'm HATCH, Presidency's smart bot! :)\n",
            "[]\n",
            "-----*-*-----\n",
            "Welcome, I'm HATCH, Presidency's smart bot! :)\n",
            "[]\n",
            "-----*-*-----\n",
            "Welcome, I'm HATCH, Presidency's smart bot! :)\n",
            "[]\n",
            "-----*-*-----\n",
            "Welcome, I'm HATCH, Presidency's smart bot! :)\n",
            "[]\n",
            "-----*-*-----\n",
            "Welcome, I'm HATCH, Presidency's smart bot! :)\n",
            "[]\n",
            "-----*-*-----\n",
            "Welcome, I'm HATCH, Presidency's smart bot! :)\n",
            "[]\n",
            "-----*-*-----\n",
            "Welcome, I'm HATCH, Presidency's smart bot! :)\n",
            "[]\n",
            "-----*-*-----\n",
            "Welcome, I'm HATCH, Presidency's smart bot! :)\n",
            "[]\n",
            "-----*-*-----\n",
            "Welcome, I'm HATCH, Presidency's smart bot! :)\n",
            "[]\n",
            "-----*-*-----\n",
            "Welcome, I'm HATCH, Presidency's smart bot! :)\n",
            "[]\n",
            "-----*-*-----\n",
            "Welcome, I'm HATCH, Presidency's smart bot! :)\n",
            "[]\n",
            "-----*-*-----\n",
            "Welcome, I'm HATCH, Presidency's smart bot! :)\n",
            "[]\n",
            "-----*-*-----\n",
            "Welcome, I'm HATCH, Presidency's smart bot! :)\n",
            "[]\n",
            "-----*-*-----\n",
            "Welcome, I'm HATCH, Presidency's smart bot! :)\n"
          ],
          "name": "stdout"
        }
      ]
    },
    {
      "cell_type": "code",
      "metadata": {
        "id": "WiI6i0G2XeR9"
      },
      "source": [
        "''''\n",
        "flag=True\n",
        "print(\"-----*-*-----\")\n",
        "print(\"Welcome, I'm HATCH, Presidency's smart bot!\")\n",
        "while flag==True:\n",
        "    user_response=input()\n",
        "    user_response.lower()\n",
        "    if user_response!='bye' or user_response!=\"thanks\" or user_response!=\"thank you\":\n",
        "        print(response(user_response))\n",
        "    else:\n",
        "        print(\"Have a good day..!\")\n",
        "        flag=False\n",
        "'''"
      ],
      "execution_count": null,
      "outputs": []
    },
    {
      "cell_type": "markdown",
      "metadata": {
        "id": "B5qPgT2pmj1_"
      },
      "source": [
        "\n",
        "\n",
        "---\n",
        "\n",
        "\n",
        "# **To find our bot search for**\n",
        "\n",
        "**VTS_hatch_bot**"
      ]
    }
  ]
}